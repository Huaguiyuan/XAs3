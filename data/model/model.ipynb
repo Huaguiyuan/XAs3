{
 "cells": [
  {
   "cell_type": "markdown",
   "metadata": {},
   "source": [
    "We will use the following generic Hamiltonian that can host nodal lines in certain regions of parameter space.\n",
    "\n",
    "\\begin{eqnarray}\n",
    "H(k)=f(k_a,k_b,k_c)\\sigma_x+g(k_a,k_b,k_c)\\sigma_z\n",
    "\\end{eqnarray}\n",
    "\n",
    "where \n",
    "\n",
    "$f(k_a,k_b,k_c)=t_4\\sin k_a+t_5\\sin k_b +t_6\\sin k_c$ \n",
    "\n",
    "and \n",
    "\n",
    "$g(k_a,k_b,k_c)=m-t_1\\cos k_a-t_2\\cos k_b-t_3\\cos k_c$\n",
    "\n",
    "The eigenvalues of the above model Hamiltonian are\n",
    "\\begin{eqnarray}\n",
    "  \\epsilon_{\\pm}=\\pm \\sqrt{f^2+g^2}\n",
    "\\end{eqnarray}\n",
    "\n",
    "which preserves particle hole symmetry. The upper and lower band touch only when both f and g are zero. In three dimensional Brillouin zone, there are three parameter $k_a$, $k_b$ and $k_c$ to vary and only two constraints $f=0=g$. The resulting band touching therefore most likely follows along a line in the Brillouin zone if two bands do touch. In rare cases, two bands touch at isolated points in the Brillouin zone. In the following, we'll explore the parameter space extended by $(m, t_1, t_2, t_3, t_4, t_5, t_6)$ and the resulting band touching as well as accompanying edge states. We originally came up with this generic model Hamiltonian to study the class of alkaline arsenic compounds. But the non-orthoganality of lattice vectors of XAs$_3$ (X=Ca, Sr, Ba, Eu) are not helpful for discussion, which\n",
    "we simplify by taking affine transformation into an orthorhombic lattice. In the following, we'll first discuss parameters corresponding to CaAs$_3$ and then move on to other scenarios.\n",
    "\n",
    "\n",
    "CaAs$_3$\n",
    "\n",
    "$m=1.64$, $t_1=0.37$, $t_2=-0.95$, $t_3=0.37$, $t_4=-0.18$, $t_5=0.12$, $t_6=0.38$.\n",
    "\n",
    "We first attempt to solve this problem analytically.\n",
    "\n",
    "\\begin{eqnarray}\n",
    "f(k_a,k_b,k_c)=t_4\\sin k_a+t_5\\sin k_b +t_6\\sin k_c =0\\\\\n",
    "g(k_a,k_b,k_c)=m-t_1\\cos k_a-t_2\\cos k_b-t_3\\cos k_c=0\n",
    "\\end{eqnarray}\n",
    "\n",
    "3D Brillouin zone can be viewed as a stack of 2D Brillouin zones with fixed $k_a$. Then, the above equations can be cast into the following\n",
    "\\begin{eqnarray}\n",
    "\\sin k_a & = & -\\frac{t_6}{t_4}\\sin k_c -\\frac{t_5}{t_4}\\sin k_b\\\\\n",
    "\\cos k_a & = & -\\frac{t_3}{t_1}\\cos k_c -\\frac{t_2}{t_1}\\cos k_b+\\frac{m}{t_1}\n",
    "\\end{eqnarray}\n",
    "\n",
    "In the following, we plot the $(-\\frac{t_6}{t_4}\\sin k_c -\\frac{t_5}{t_4}\\sin k_b)^2+(-\\frac{t_3}{t_1}\\cos k_c -\\frac{t_2}{t_1}\\cos k_b+\\frac{m}{t_1})^2$ in $k_b$-$k_c$ plane. The above parametric equations require that $(-\\frac{t_6}{t_4}\\sin k_c -\\frac{t_5}{t_4}\\sin k_b)^2+(-\\frac{t_3}{t_1}\\cos k_c -\\frac{t_2}{t_1}\\cos k_b+\\frac{m}{t_1})^2$ be equal to 1. Clearly, there is a line in $k_b-k_c$ plane along which the two bands touch. But it should be noted that along the line $k_a$ actually changes. \n",
    "<img width=380 src=\"files/crossing.png\">"
   ]
  },
  {
   "cell_type": "code",
   "execution_count": null,
   "metadata": {
    "collapsed": false
   },
   "outputs": [],
   "source": []
  },
  {
   "cell_type": "code",
   "execution_count": null,
   "metadata": {
    "collapsed": true
   },
   "outputs": [],
   "source": []
  }
 ],
 "metadata": {
  "kernelspec": {
   "display_name": "Python 2",
   "language": "python",
   "name": "python2"
  },
  "language_info": {
   "codemirror_mode": {
    "name": "ipython",
    "version": 2
   },
   "file_extension": ".py",
   "mimetype": "text/x-python",
   "name": "python",
   "nbconvert_exporter": "python",
   "pygments_lexer": "ipython2",
   "version": "2.7.13"
  }
 },
 "nbformat": 4,
 "nbformat_minor": 2
}
