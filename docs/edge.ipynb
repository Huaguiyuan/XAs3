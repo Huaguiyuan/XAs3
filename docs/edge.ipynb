{
 "cells": [
  {
   "attachments": {},
   "cell_type": "markdown",
   "metadata": {},
   "source": [
    "<h1 style=\"text-align:center\"> Nodal loop Hamiltonian and its edge states</h1>\n",
    "### Model Hamiltonian  \n",
    "\n",
    "\\begin{equation}\n",
    "H(\\vec{k})=f(k_a,k_b,k_c)\\sigma_x+g(k_a,k_b,k_c)\\sigma_z\n",
    "\\end{equation}\n",
    "\n",
    "For k-points on the nodal loop, $f=g=0$. \n",
    "\n",
    "\\begin{equation}\n",
    "t_4\\sin k_a+t_5 \\sin k_b + t_6 \\sin k_c = 0\\\\\n",
    "m - t_1\\cos k_a - t_2\\cos k_b - t_3\\cos k_c = 0\n",
    "\\end{equation}\n",
    "\n",
    "Eigenvalues are\n",
    "\n",
    "\\begin{equation}\n",
    "\\epsilon_k=\\sqrt{f_k^2+g_k^2}\n",
    "\\end{equation}\n",
    "\n",
    "### Computing Edge states from model Hamiltonian\n",
    "<img src=\"./edge.jpg\" alt=\"Drawing\" style=\"width: 400px;\" title=\"\"/>\n",
    "\n",
    "In the figure above, we illustrate the schematic setup of a semi-infinite system with open boundary at the topmost layer. There are several methods for solving problems like this. Here, we choose to use Green's function method which solves the following equation.\n",
    "\n",
    "\\begin{equation}\n",
    "(\\omega I-H)\\cdot G=I\n",
    "\\end{equation}\n",
    "\n",
    "where $H$ is the Hamiltonian of a semi-infinite system and G is the corresponding Green's function. Given that the semi-infinite system consists of 2D principle layers which can only interact with one layer above or below it, the Hamiltonian of the semi-infite system is therefore a tridigonal matrix. Its soluton can be found in J. Phys. F: Met. Phys. 14 (1984) 1205-1215. Green's function for the surface layer becomes  \n",
    "\n",
    "\n",
    "\\begin{equation}\n",
    "  G_{00}=(\\omega-H_{00}-H_{01}T)^{-1}\n",
    "\\end{equation}\n",
    "\n",
    "and Green's function for the bulk\n",
    "\n",
    "\\begin{equation}\n",
    "G_{11} = (\\omega - H_{00} - H_{01} T-H_{10}(\\omega - H_{00})^{-1} H_{01})^ {-1}\n",
    "\\end{equation}\n",
    "\n",
    "where \n",
    "\n",
    "\\begin{equation}\n",
    "T = t_0 +\\tilde{t_0}t_1+\\tilde{t_0}\\tilde{t_1}t_2+...+\\tilde{t_0}...\\tilde{t}_{n-1}t_n\n",
    "\\end{equation}\n",
    "\n",
    "\\begin{equation}\n",
    "t_0 = (\\omega-H_{00})^{-1}H_{10}\\\\\n",
    "\\tilde{t}_0=(\\omega -H_{00})^{-1}H_{01}\\\\\n",
    "t_i = (I-t_{i-1}\\tilde{t}_{i-1}-\\tilde{t}_{i-1}t_{i-1})^{-1}t_{i-1}^2\\\\\n",
    "\\tilde{t}_i=(I-t_{i-1}\\tilde{t}_{i-1}-\\tilde{t}_{i-1}t_{i-1})^{-1}\\tilde{t}^2_{i-1}\n",
    "\\end{equation}\n",
    "\n",
    "The cutoff $n$ doesnt' have to be very large, (50~100 should be enough). To avoid divergence, we replace $\\omega$ with $\\omega+i\\delta$ when computing Green's function. One thing to note is that typically there are more than one orbital per principle layer which means that $G_{00}$ is a matrix, which is why we used trace of $G_{00}$ when calculating the spectral function of topmost layer.\n",
    "#### Ref:  P. B. Allen and W.E. Pickett Accidental Degeneracy in k-space, Geometrical Phase, and the Perturbation of $\\pi$ by Spin-orbit Interactions\n",
    "\n",
    "\n",
    "Author: Yundi Quan"
   ]
  },
  {
   "cell_type": "code",
   "execution_count": null,
   "metadata": {
    "collapsed": true
   },
   "outputs": [],
   "source": []
  }
 ],
 "metadata": {
  "kernelspec": {
   "display_name": "Python 3",
   "language": "python",
   "name": "python3"
  },
  "language_info": {
   "codemirror_mode": {
    "name": "ipython",
    "version": 3
   },
   "file_extension": ".py",
   "mimetype": "text/x-python",
   "name": "python",
   "nbconvert_exporter": "python",
   "pygments_lexer": "ipython3",
   "version": "3.6.3"
  }
 },
 "nbformat": 4,
 "nbformat_minor": 2
}
